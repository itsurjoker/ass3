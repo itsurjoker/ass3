{
 "cells": [
  {
   "cell_type": "code",
   "execution_count": null,
   "id": "e22f11c1-a625-420a-a32c-50edd83288ed",
   "metadata": {},
   "outputs": [],
   "source": [
    "#Q1.\n",
    "'def' keyword is used create function.\n",
    "\n",
    "def get_odd_numbers():\n",
    "    odd_numbers = [num for num in range(1, 26) if num % 2 != 0]\n",
    "    return odd_numbers"
   ]
  },
  {
   "cell_type": "code",
   "execution_count": null,
   "id": "e8673cfd-bc87-4465-baf9-6956f7e98667",
   "metadata": {},
   "outputs": [],
   "source": [
    "#Q2.\n",
    "*args and **kwargs are used as special parameters in function definitions to handle variable-length argument lists. They allow you to pass a varying number of positional arguments (*args) and keyword arguments (**kwargs) to a function.\n",
    "\n",
    "    1)*args (Positional Arguments):\n",
    "    The *args parameter allows a function to accept an arbitrary number of positional arguments. These arguments are collected into a tuple within the function, and you can access them using the *args syntax.\n",
    "    \n",
    "    def sum_numbers(*args):\n",
    "    total = 0\n",
    "    for num in args:\n",
    "        total += num\n",
    "    return total\n",
    "\n",
    "    2)**kwargs (Keyword Arguments):\n",
    "    The **kwargs parameter allows a function to accept an arbitrary number of keyword arguments. These arguments are collected into a dictionary within the function, and you can access them using the **kwargs syntax.\n",
    "    \n",
    "    \n",
    "    def print_info(**kwargs):\n",
    "    for key, value in kwargs.items():\n",
    "        print(f\"{key}: {value}\")"
   ]
  },
  {
   "cell_type": "code",
   "execution_count": 1,
   "id": "b0b81741-3617-42ed-be10-452e919ec6f0",
   "metadata": {},
   "outputs": [
    {
     "name": "stdout",
     "output_type": "stream",
     "text": [
      "2\n",
      "4\n",
      "6\n",
      "8\n",
      "10\n"
     ]
    }
   ],
   "source": [
    "#Q3.\n",
    "#An iterator is an object that allows you to iterate over elements in a sequence, one at a time, without needing to know the underlying data structure. It provides a common interface for accessing the elements of a collection, such as lists, tuples, or other custom data structures.\n",
    "\n",
    "#To create an iterator object, you use the iter() method, and to iterate through the elements, you use the next() method.\n",
    "\n",
    "#Let's use these methods to print the first five elements of the given list [2, 4, 6, 8, 10, 12, 14, 16, 18, 20]:\n",
    "\n",
    "my_list = [2, 4, 6, 8, 10, 12, 14, 16, 18, 20]\n",
    "my_iterator = iter(my_list)\n",
    "for _ in range(5):\n",
    "    element = next(my_iterator)\n",
    "    print(element)\n"
   ]
  },
  {
   "cell_type": "code",
   "execution_count": 2,
   "id": "98b2802a-b72a-47c2-9f40-7d7f8c9776cd",
   "metadata": {},
   "outputs": [
    {
     "name": "stdout",
     "output_type": "stream",
     "text": [
      "1\n",
      "2\n",
      "3\n",
      "4\n",
      "5\n"
     ]
    }
   ],
   "source": [
    "#Q4.\n",
    "#A generator function is a special type of function that uses the yield keyword instead of the return keyword to produce a series of values (an iterator) when called. When a generator function is called, it does not execute the entire function body at once like a regular function; instead, it generates one value at a time and pauses its execution state, allowing the caller to retrieve the value. The state of the generator function is saved between calls, which makes it possible to continue generating values on subsequent calls.\n",
    "\n",
    "#The main advantage of using a generator function is that it allows you to work with large sequences of data efficiently without needing to store all the values in memory at once. This makes it memory-efficient and useful for situations where you need to process large datasets or infinite sequences.\n",
    "\n",
    "#The yield keyword is used to indicate that the function is a generator function and that it will yield a value for each call instead of returning a single value. When the yield statement is encountered, the function's current state is frozen, and the yielded value is returned to the caller. The function can then be resumed from where it left off the next time it is called.\n",
    "\n",
    "def count_up_to(limit):\n",
    "    count = 1\n",
    "    while count <= limit:\n",
    "        yield count\n",
    "        count += 1\n",
    "\n",
    "for num in count_up_to(5):\n",
    "    print(num)\n"
   ]
  },
  {
   "cell_type": "code",
   "execution_count": 3,
   "id": "02edcf6a-724d-457a-a1ab-58755f167d08",
   "metadata": {},
   "outputs": [
    {
     "name": "stdout",
     "output_type": "stream",
     "text": [
      "2\n",
      "3\n",
      "5\n",
      "7\n",
      "11\n",
      "13\n",
      "17\n",
      "19\n",
      "23\n",
      "29\n",
      "31\n",
      "37\n",
      "41\n",
      "43\n",
      "47\n",
      "53\n",
      "59\n",
      "61\n",
      "67\n",
      "71\n"
     ]
    }
   ],
   "source": [
    "#Q5.\n",
    "def is_prime(num):\n",
    "    if num < 2:\n",
    "        return False\n",
    "    for i in range(2, int(num ** 0.5) + 1):\n",
    "        if num % i == 0:\n",
    "            return False\n",
    "    return True\n",
    "\n",
    "def prime_generator():\n",
    "    num = 2\n",
    "    while num < 1000:\n",
    "        if is_prime(num):\n",
    "            yield num\n",
    "        num += 1\n",
    "prime_gen = prime_generator()\n",
    "for _ in range(20):\n",
    "    print(next(prime_gen))"
   ]
  },
  {
   "cell_type": "code",
   "execution_count": 4,
   "id": "3f0cc737-6d9e-430b-bde8-c845953e8fef",
   "metadata": {},
   "outputs": [
    {
     "name": "stdout",
     "output_type": "stream",
     "text": [
      "The first 10 Fibonacci numbers are: [0, 1, 1, 2, 3, 5, 8, 13, 21, 34]\n"
     ]
    }
   ],
   "source": [
    "#Q6.\n",
    "\n",
    "def fibonacci(n):\n",
    "    fib_sequence = [0, 1]\n",
    "    while len(fib_sequence) < n:\n",
    "        next_num = fib_sequence[-1] + fib_sequence[-2]\n",
    "        fib_sequence.append(next_num)\n",
    "    return fib_sequence\n",
    "first_10_fib = fibonacci(10)\n",
    "print(\"The first 10 Fibonacci numbers are:\", first_10_fib)"
   ]
  },
  {
   "cell_type": "code",
   "execution_count": 5,
   "id": "be432bd9-e9d0-47cf-8c74-bc5efa1d7bda",
   "metadata": {},
   "outputs": [
    {
     "name": "stdout",
     "output_type": "stream",
     "text": [
      "['p', 'w', 's', 'k', 'i', 'l', 'l', 's']\n"
     ]
    }
   ],
   "source": [
    "#Q7.\n",
    "\n",
    "input_string = 'pwskills'\n",
    "output_list = [char for char in input_string]\n",
    "print(output_list)"
   ]
  },
  {
   "cell_type": "code",
   "execution_count": 6,
   "id": "7edfe8cb-a6b1-4897-82a2-a3880fac27b2",
   "metadata": {},
   "outputs": [
    {
     "name": "stdin",
     "output_type": "stream",
     "text": [
      "Enter a number:  5\n"
     ]
    },
    {
     "name": "stdout",
     "output_type": "stream",
     "text": [
      "5 is a palindrome.\n"
     ]
    }
   ],
   "source": [
    "#Q8.\n",
    "\n",
    "def is_palindrome(number):\n",
    "    original_number = number\n",
    "    reversed_number = 0\n",
    "\n",
    "    while number > 0:\n",
    "        digit = number % 10\n",
    "        reversed_number = reversed_number * 10 + digit\n",
    "        number = number // 10\n",
    "\n",
    "    return original_number == reversed_number\n",
    "\n",
    "if __name__ == \"__main__\":\n",
    "    try:\n",
    "        num = int(input(\"Enter a number: \"))\n",
    "        if is_palindrome(num):\n",
    "            print(f\"{num} is a palindrome.\")\n",
    "        else:\n",
    "            print(f\"{num} is not a palindrome.\")\n",
    "    except ValueError:\n",
    "        print(\"Invalid input. Please enter a valid integer.\")"
   ]
  },
  {
   "cell_type": "code",
   "execution_count": 7,
   "id": "1f70b643-752a-4fd7-a0b0-dc8c9e363cdb",
   "metadata": {},
   "outputs": [
    {
     "name": "stdout",
     "output_type": "stream",
     "text": [
      "[1, 3, 5, 7, 9, 11, 13, 15, 17, 19, 21, 23, 25, 27, 29, 31, 33, 35, 37, 39, 41, 43, 45, 47, 49, 51, 53, 55, 57, 59, 61, 63, 65, 67, 69, 71, 73, 75, 77, 79, 81, 83, 85, 87, 89, 91, 93, 95, 97, 99]\n"
     ]
    }
   ],
   "source": [
    "#Q9.\n",
    "\n",
    "numbers_list = [num for num in range(1, 101)]\n",
    "odd_numbers_list = [num for num in numbers_list if num % 2 != 0]\n",
    "print(odd_numbers_list)"
   ]
  }
 ],
 "metadata": {
  "kernelspec": {
   "display_name": "Python 3 (ipykernel)",
   "language": "python",
   "name": "python3"
  },
  "language_info": {
   "codemirror_mode": {
    "name": "ipython",
    "version": 3
   },
   "file_extension": ".py",
   "mimetype": "text/x-python",
   "name": "python",
   "nbconvert_exporter": "python",
   "pygments_lexer": "ipython3",
   "version": "3.10.8"
  }
 },
 "nbformat": 4,
 "nbformat_minor": 5
}
